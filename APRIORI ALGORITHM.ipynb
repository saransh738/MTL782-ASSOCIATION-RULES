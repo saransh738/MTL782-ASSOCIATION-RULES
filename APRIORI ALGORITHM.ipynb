{
 "cells": [
  {
   "cell_type": "code",
   "execution_count": 3,
   "id": "0ee749ab",
   "metadata": {
    "scrolled": false
   },
   "outputs": [
    {
     "name": "stdout",
     "output_type": "stream",
     "text": [
      "159\n",
      "{'36'} => {'38'} at confidence 0.9502724795640327\n",
      "{'37'} => {'38'} at confidence 0.9739292364990689\n",
      "{'110'} => {'38'} at confidence 0.9753042233357194\n",
      "{'170'} => {'38'} at confidence 0.9780574378831881\n",
      "{'286'} => {'38'} at confidence 0.9433643279797126\n",
      "{'39', '36'} => {'38'} at confidence 0.9548355424644085\n",
      "{'48', '36'} => {'38'} at confidence 0.96045197740113\n",
      "{'41', '48'} => {'39'} at confidence 0.8168108227988468\n",
      "{'110', '39'} => {'38'} at confidence 0.9891984081864695\n",
      "{'39', '170'} => {'38'} at confidence 0.9805730937348227\n",
      "{'48', '170'} => {'38'} at confidence 0.9877970456005138\n",
      "{'225', '48'} => {'39'} at confidence 0.8064516129032258\n",
      "{'110', '48'} => {'38'} at confidence 0.986231884057971\n",
      "{'48', '39', '36'} => {'38'} at confidence 0.967741935483871\n",
      "{'38', '41', '48'} => {'39'} at confidence 0.8386689132266217\n",
      "{'48', '39', '170'} => {'38'} at confidence 0.9892205638474295\n",
      "{'110', '48', '39'} => {'38'} at confidence 0.9942140790742526\n",
      "\n",
      " Total Time taken is 90.23220777511597 seconds\n"
     ]
    }
   ],
   "source": [
    "from itertools import chain,combinations\n",
    "import time\n",
    "from collections import defaultdict\n",
    "\n",
    "filename=\"data.txt\"\n",
    "sup = 881\n",
    "\n",
    "with open(filename) as f:\n",
    "    database = f.readlines()\n",
    "\n",
    "database = [x.strip() for x in database]\n",
    "\n",
    "T,freq_sets = [],defaultdict(int)        \n",
    "\n",
    "for i in range(0,len(database)): T.append(database[i].split())\n",
    "\n",
    "def apriori(L1,sup):\n",
    "    k = 0\n",
    "    L = [L1]\n",
    "    while(len(L[k])>0):\n",
    "        # self joining\n",
    "        Ck_plus1 = []\n",
    "        lk = len(L[k])\n",
    "        for i in range(lk):\n",
    "            for j in range(i+1,lk):\n",
    "                if L[k][i][:k] == L[k][j][:k]:\n",
    "                    a,b = min(L[k][i][k],L[k][j][k]),max(L[k][i][k],L[k][j][k])\n",
    "                    Ck_plus1.append(L[k][i][:k]+[a,b])\n",
    "        # pruning\n",
    "        pruned_Ck_plus1 = []\n",
    "        for candidate in Ck_plus1:\n",
    "            k_sets = list(map(list,set(combinations(set(candidate),k+1)))) # all k subsets\n",
    "            flag = 1\n",
    "            for i in range(len(k_sets)):\n",
    "                if list(sorted(k_sets[i])) not in L[k]: flag = 0\n",
    "            if flag: pruned_Ck_plus1.append(candidate)\n",
    "        \n",
    "        Ck_plus1_sup = defaultdict(int)\n",
    "        for item in T1:\n",
    "            for item_1 in pruned_Ck_plus1:\n",
    "                if (set(item_1).issubset(set(item))):\n",
    "                    Ck_plus1_sup[tuple(item_1)] += 1\n",
    "        Lk_plus1_new = []\n",
    "        for items in Ck_plus1_sup:\n",
    "            if (Ck_plus1_sup[items] >= sup):\n",
    "                Lk_plus1_new.append(sorted(list(items)))\n",
    "                freq_sets[tuple(sorted(list(items)))] = Ck_plus1_sup[items]\n",
    "        L.append(Lk_plus1_new)\n",
    "        k += 1\n",
    "    return L\n",
    "\n",
    "def assoRule(Set, minConf):\n",
    "    for itemSet in Set:\n",
    "        subsets = chain.from_iterable(combinations(itemSet,r) for r in range(1,len(itemSet)))\n",
    "        itemSetSup = freq_sets[tuple(sorted(list(itemSet)))]\n",
    "        for s in subsets:\n",
    "            conf = float(itemSetSup / freq_sets[tuple(sorted(list(s)))])\n",
    "            if(conf > minConf):\n",
    "                print(\"{} => {} at confidence {}\".format(set(s), set(itemSet.difference(s)), conf))\n",
    "\n",
    "start=time.time()\n",
    "C1,L1,n = defaultdict(int),[],len(T)\n",
    "for i in range(n):\n",
    "    for j in range(len(T[i])):\n",
    "        elem = T[i][j]\n",
    "        C1[elem] += 1\n",
    "\n",
    "for elem in C1.keys():\n",
    "    if C1[elem] >= sup:\n",
    "        L1.append([elem])\n",
    "        freq_sets[(elem,)] = C1[elem]\n",
    "\n",
    "T1 = []\n",
    "for i in range(n):\n",
    "    tmp = []\n",
    "    for j in range(len(T[i])):\n",
    "        if [T[i][j]] in L1: tmp.append(T[i][j])\n",
    "    T1.append(tmp)\n",
    "\n",
    "L = apriori(L1,sup)\n",
    "print(len(freq_sets))\n",
    " \n",
    "freq_set = []\n",
    "for i in range(len(L)):\n",
    "    for j in range(len(L[i])):\n",
    "        freq_set.append(set(L[i][j]))\n",
    "assoRule(freq_set,0.8)\n",
    "\n",
    "end=time.time()\n",
    "print(\"\\n Total Time taken is {} seconds\".format( end-start))"
   ]
  },
  {
   "cell_type": "code",
   "execution_count": 2,
   "id": "66a6f7aa",
   "metadata": {},
   "outputs": [
    {
     "name": "stdout",
     "output_type": "stream",
     "text": [
      "defaultdict(<class 'int'>, {('9',): 1372, ('19',): 1005, ('31',): 920, ('32',): 15167, ('36',): 2936, ('37',): 1074, ('38',): 15596, ('39',): 50675, ('41',): 14945, ('45',): 911, ('48',): 42135, ('49',): 1120, ('60',): 1489, ('65',): 4472, ('78',): 1060, ('79',): 1600, ('89',): 3837, ('101',): 2237, ('110',): 2794, ('117',): 1026, ('123',): 1302, ('147',): 1779, ('161',): 1010, ('170',): 3099, ('175',): 970, ('179',): 998, ('185',): 1376, ('201',): 1133, ('225',): 3257, ('237',): 3032, ('242',): 911, ('249',): 1160, ('255',): 1474, ('258',): 987, ('264',): 895, ('270',): 1734, ('271',): 2094, ('286',): 1183, ('301',): 1204, ('310',): 2594, ('338',): 1274, ('413',): 1880, ('438',): 1863, ('475',): 2167, ('479',): 926, ('522',): 974, ('533',): 1487, ('548',): 1137, ('589',): 1119, ('592',): 1227, ('604',): 1209, ('677',): 1110, ('740',): 1181, ('783',): 965, ('824',): 1210, ('956',): 911, ('1004',): 1102, ('1146',): 1426, ('1327',): 1786, ('1393',): 1161, ('2238',): 1715, ('2958',): 904, ('3270',): 950, ('10515',): 882, ('12925',): 1467, ('13041',): 1051, ('14098',): 1291, ('15832',): 1143, ('16010',): 1316, ('16217',): 1166, ('36', '38'): 2790, ('36', '39'): 2037, ('37', '38'): 1046, ('38', '39'): 10345, ('38', '41'): 3897, ('39', '41'): 11414, ('38', '48'): 7944, ('39', '48'): 29142, ('32', '41'): 3196, ('39', '79'): 1111, ('36', '48'): 1416, ('41', '48'): 9018, ('48', '79'): 893, ('39', '89'): 2749, ('101', '39'): 1400, ('48', '89'): 2798, ('101', '48'): 1311, ('110', '38'): 2725, ('110', '39'): 1759, ('147', '39'): 1137, ('147', '48'): 1036, ('170', '38'): 3031, ('170', '39'): 2059, ('170', '48'): 1557, ('32', '39'): 8455, ('32', '48'): 8034, ('32', '38'): 2833, ('39', '65'): 2787, ('237', '39'): 1929, ('48', '65'): 2529, ('255', '39'): 1057, ('255', '48'): 1057, ('225', '39'): 2351, ('270', '39'): 1194, ('271', '39'): 1434, ('237', '48'): 1682, ('286', '38'): 1116, ('310', '39'): 1852, ('39', '60'): 983, ('41', '65'): 995, ('413', '48'): 1135, ('39', '438'): 1260, ('438', '48'): 1025, ('39', '475'): 1500, ('475', '48'): 1428, ('225', '48'): 1736, ('270', '48'): 957, ('310', '48'): 1692, ('110', '48'): 1380, ('39', '533'): 922, ('1146', '39'): 983, ('271', '48'): 1090, ('1327', '39'): 1156, ('1327', '48'): 968, ('39', '413'): 1130, ('2238', '48'): 955, ('2238', '39'): 1287, ('12925', '39'): 938, ('36', '38', '39'): 1945, ('38', '39', '41'): 3051, ('38', '39', '48'): 6102, ('36', '38', '48'): 1360, ('36', '39', '48'): 1116, ('38', '41', '48'): 2374, ('39', '41', '48'): 7366, ('39', '48', '89'): 2125, ('101', '39', '48'): 946, ('110', '38', '39'): 1740, ('170', '38', '39'): 2019, ('170', '38', '48'): 1538, ('170', '39', '48'): 1206, ('32', '39', '41'): 2359, ('32', '41', '48'): 2063, ('32', '39', '48'): 5402, ('32', '38', '39'): 1840, ('32', '38', '48'): 1646, ('39', '48', '65'): 1797, ('237', '39', '48'): 1244, ('39', '475', '48'): 1092, ('225', '39', '48'): 1400, ('110', '38', '48'): 1361, ('110', '39', '48'): 1037, ('310', '39', '48'): 1347, ('36', '38', '39', '48'): 1080, ('38', '39', '41', '48'): 1991, ('170', '38', '39', '48'): 1193, ('32', '39', '41', '48'): 1646, ('32', '38', '39', '48'): 1236, ('110', '38', '39', '48'): 1031})\n"
     ]
    }
   ],
   "source": [
    "print(freq_sets)"
   ]
  }
 ],
 "metadata": {
  "kernelspec": {
   "display_name": "Python 3",
   "language": "python",
   "name": "python3"
  },
  "language_info": {
   "codemirror_mode": {
    "name": "ipython",
    "version": 3
   },
   "file_extension": ".py",
   "mimetype": "text/x-python",
   "name": "python",
   "nbconvert_exporter": "python",
   "pygments_lexer": "ipython3",
   "version": "3.8.8"
  }
 },
 "nbformat": 4,
 "nbformat_minor": 5
}
